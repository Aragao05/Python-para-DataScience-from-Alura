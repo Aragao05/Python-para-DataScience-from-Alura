{
 "cells": [
  {
   "cell_type": "markdown",
   "metadata": {},
   "source": [
    "Exercicios aula 1: Fazedno leitura de arquivo CSV"
   ]
  },
  {
   "cell_type": "markdown",
   "metadata": {},
   "source": [
    "A codificação do arquivo é ISO-8859-1?"
   ]
  },
  {
   "cell_type": "code",
   "execution_count": null,
   "metadata": {},
   "outputs": [],
   "source": [
    "import chardet\n",
    "\n",
    "with open('dados_sus.csv', 'rb') as file:\n",
    "    print(chardet.detect(file.read()))"
   ]
  },
  {
   "cell_type": "markdown",
   "metadata": {},
   "source": [
    "As três primeiras linhas linhas do arquivo podem ser desconsideradas, pois o cabeçalho só começa na quarta linha.\n",
    "\n",
    "As 9 últimas linhas também podem ser desconsideradas, pois são apenas informações sobre onde os dados foram obtidos."
   ]
  },
  {
   "cell_type": "code",
   "execution_count": null,
   "metadata": {},
   "outputs": [],
   "source": [
    "import pandas as pd \n",
    "\n",
    "dados = pd.read_csv('dados_sus.csv', encoding='ISO-8859-1', sep=';', skiprows=3, skipfooter = 9, engine='python')\n",
    "# endoding passa qual é o tipo de codificação do arquivo, skiprows = x diz que voce pula as x primeiras linhas do arquivo na hora da leitura, skipfooter = x diz que voce pula as x ultimas linhas na hora da leitura do arquivo, engine = 'python' o motor usado para ler o arquivo é o Python. Isso é necessário quando se usa o parâmetro skipfooter, pois o motor padrão não suporta essa opção.\n",
    "\n",
    "dados"
   ]
  },
  {
   "cell_type": "markdown",
   "metadata": {},
   "source": [
    "Exercicio aula 2:\n",
    "\n",
    "Neste desafio, a sua função é efetuar a leitura desse link do Google Planilhas e depois salvar o DataFrame obtido no formato CSV. Pronto(a) para começar?"
   ]
  },
  {
   "cell_type": "code",
   "execution_count": null,
   "metadata": {},
   "outputs": [],
   "source": [
    "import pandas as pd \n",
    "\n",
    "sheet_id = '1pvBoLyX8kP0TjtUbadVMGdTl4yzm6bHMThhPiqCVtpw'\n",
    "\n",
    "url_co2 = f'https://docs.google.com/spreadsheets/d/{id}/gviz/tq?tqx=out:csv'"
   ]
  },
  {
   "cell_type": "code",
   "execution_count": null,
   "metadata": {},
   "outputs": [],
   "source": [
    "emissoes_carbono = pd.read_csv(url_co2)\n",
    "emissoes_carbono.head()"
   ]
  },
  {
   "cell_type": "code",
   "execution_count": null,
   "metadata": {},
   "outputs": [],
   "source": [
    "emissoes_carbono.to_csv('dados_emissoes_co2.csv', index=False)"
   ]
  },
  {
   "cell_type": "markdown",
   "metadata": {},
   "source": [
    "Exercicios Aula 3"
   ]
  },
  {
   "cell_type": "markdown",
   "metadata": {},
   "source": [
    "Este DataFrame possui 6 colunas: genus (gênero), name (nome), id, family (família), order (ordem) e nutritions (nutrições). Note que a coluna nutritions está com todas as informações nutricionais aninhadas. Portanto, os dados precisam ser normalizados.\n",
    "\n",
    "O desafio agora é normalizar esse DataFrame."
   ]
  },
  {
   "cell_type": "code",
   "execution_count": null,
   "metadata": {},
   "outputs": [],
   "source": [
    "# pegadno os dados \n",
    "import pandas as pd\n",
    "import requests\n",
    "import json\n",
    "\n",
    "dados_frutas = requests.get('https://fruityvice.com/api/fruit/all')\n",
    "resultado = json.loads(dados_frutas.text)\n",
    "\n",
    "pd.DataFrame(resultado).head()"
   ]
  },
  {
   "cell_type": "code",
   "execution_count": null,
   "metadata": {},
   "outputs": [],
   "source": [
    "# normalizando os dados\n",
    "\n",
    "import pandas as pd\n",
    "dados_frutas_normalizado = pd.json_normalize(resultado)\n",
    "\n",
    "dados_frutas_normalizado.head()"
   ]
  },
  {
   "cell_type": "markdown",
   "metadata": {},
   "source": [
    "Exercicio aula 4"
   ]
  },
  {
   "cell_type": "markdown",
   "metadata": {},
   "source": [
    "Vanessa é uma cientista de dados que está realizando algumas análises com dados ambientais. Ela está desenvolvendo um projeto para avaliar o impacto ambiental das atividades humanas em diferentes países do mundo, mas para isso precisa das estimativas populacionais desses países. Ao pesquisar na internet, encontrou uma tabela de estimativas populacionais em um artigo da página.\n",
    "\n",
    "Assim como Vanessa, seu desafio é obter um DataFrame da tabela que contém as informações do número de habitantes de cada país."
   ]
  },
  {
   "cell_type": "code",
   "execution_count": null,
   "metadata": {},
   "outputs": [],
   "source": [
    "import pandas as pd \n",
    "\n",
    "pd.read_html('https://pt.wikipedia.org/wiki/Lista_de_pa%C3%ADses_por_popula%C3%A7%C3%A3o')[0]"
   ]
  },
  {
   "cell_type": "markdown",
   "metadata": {},
   "source": [
    "Exercicios Aula 5\n",
    "\n"
   ]
  },
  {
   "cell_type": "markdown",
   "metadata": {},
   "source": [
    "Exercicio 1: Criar o banco de dados local com a biblioteca SQLAlchemy."
   ]
  },
  {
   "cell_type": "code",
   "execution_count": 4,
   "metadata": {},
   "outputs": [
    {
     "data": {
      "text/html": [
       "<div>\n",
       "<style scoped>\n",
       "    .dataframe tbody tr th:only-of-type {\n",
       "        vertical-align: middle;\n",
       "    }\n",
       "\n",
       "    .dataframe tbody tr th {\n",
       "        vertical-align: top;\n",
       "    }\n",
       "\n",
       "    .dataframe thead th {\n",
       "        text-align: right;\n",
       "    }\n",
       "</style>\n",
       "<table border=\"1\" class=\"dataframe\">\n",
       "  <thead>\n",
       "    <tr style=\"text-align: right;\">\n",
       "      <th></th>\n",
       "      <th>ID_Cliente</th>\n",
       "      <th>Idade</th>\n",
       "      <th>Grau_escolaridade</th>\n",
       "      <th>Estado_civil</th>\n",
       "      <th>Tamanho_familia</th>\n",
       "      <th>Categoria_de_renda</th>\n",
       "      <th>Ocupacao</th>\n",
       "      <th>Anos_empregado</th>\n",
       "      <th>Rendimento_anual</th>\n",
       "      <th>Tem_carro</th>\n",
       "      <th>Moradia</th>\n",
       "    </tr>\n",
       "  </thead>\n",
       "  <tbody>\n",
       "    <tr>\n",
       "      <th>0</th>\n",
       "      <td>5008804</td>\n",
       "      <td>32</td>\n",
       "      <td>Ensino superior</td>\n",
       "      <td>União-estável</td>\n",
       "      <td>2</td>\n",
       "      <td>Empregado</td>\n",
       "      <td>Outro</td>\n",
       "      <td>12</td>\n",
       "      <td>427500.0</td>\n",
       "      <td>1</td>\n",
       "      <td>Apartamento alugado</td>\n",
       "    </tr>\n",
       "    <tr>\n",
       "      <th>1</th>\n",
       "      <td>5008805</td>\n",
       "      <td>32</td>\n",
       "      <td>Ensino superior</td>\n",
       "      <td>União-estável</td>\n",
       "      <td>2</td>\n",
       "      <td>Empregado</td>\n",
       "      <td>Outro</td>\n",
       "      <td>12</td>\n",
       "      <td>427500.0</td>\n",
       "      <td>1</td>\n",
       "      <td>Apartamento alugado</td>\n",
       "    </tr>\n",
       "  </tbody>\n",
       "</table>\n",
       "</div>"
      ],
      "text/plain": [
       "   ID_Cliente  Idade Grau_escolaridade   Estado_civil  Tamanho_familia  \\\n",
       "0     5008804     32   Ensino superior  União-estável                2   \n",
       "1     5008805     32   Ensino superior  União-estável                2   \n",
       "\n",
       "  Categoria_de_renda Ocupacao  Anos_empregado  Rendimento_anual  Tem_carro  \\\n",
       "0          Empregado    Outro              12          427500.0          1   \n",
       "1          Empregado    Outro              12          427500.0          1   \n",
       "\n",
       "               Moradia  \n",
       "0  Apartamento alugado  \n",
       "1  Apartamento alugado  "
      ]
     },
     "execution_count": 4,
     "metadata": {},
     "output_type": "execute_result"
    }
   ],
   "source": [
    "import pandas as pd\n",
    "import sqlalchemy\n",
    "from sqlalchemy import create_engine, MetaData, Table, inspect, text\n",
    "\n",
    "url = 'https://raw.githubusercontent.com/alura-cursos/Pandas/main/clientes_banco.csv'\n",
    "\n",
    "engine = create_engine('sqlite:///:memory:')\n",
    "\n",
    "dados = pd.read_csv(url)\n",
    "dados.head(2)"
   ]
  },
  {
   "cell_type": "markdown",
   "metadata": {},
   "source": [
    "Exercicio 2: Escrever os dados do arquivo CSV neste banco de dados local."
   ]
  },
  {
   "cell_type": "code",
   "execution_count": 5,
   "metadata": {},
   "outputs": [
    {
     "data": {
      "text/plain": [
       "438463"
      ]
     },
     "execution_count": 5,
     "metadata": {},
     "output_type": "execute_result"
    }
   ],
   "source": [
    "dados.to_sql('Clientes', engine, index=False)\n"
   ]
  },
  {
   "cell_type": "code",
   "execution_count": 6,
   "metadata": {},
   "outputs": [
    {
     "data": {
      "text/html": [
       "<div>\n",
       "<style scoped>\n",
       "    .dataframe tbody tr th:only-of-type {\n",
       "        vertical-align: middle;\n",
       "    }\n",
       "\n",
       "    .dataframe tbody tr th {\n",
       "        vertical-align: top;\n",
       "    }\n",
       "\n",
       "    .dataframe thead th {\n",
       "        text-align: right;\n",
       "    }\n",
       "</style>\n",
       "<table border=\"1\" class=\"dataframe\">\n",
       "  <thead>\n",
       "    <tr style=\"text-align: right;\">\n",
       "      <th></th>\n",
       "      <th>ID_Cliente</th>\n",
       "      <th>Idade</th>\n",
       "      <th>Grau_escolaridade</th>\n",
       "      <th>Estado_civil</th>\n",
       "      <th>Tamanho_familia</th>\n",
       "      <th>Categoria_de_renda</th>\n",
       "      <th>Ocupacao</th>\n",
       "      <th>Anos_empregado</th>\n",
       "      <th>Rendimento_anual</th>\n",
       "      <th>Tem_carro</th>\n",
       "      <th>Moradia</th>\n",
       "    </tr>\n",
       "  </thead>\n",
       "  <tbody>\n",
       "    <tr>\n",
       "      <th>0</th>\n",
       "      <td>5008804</td>\n",
       "      <td>32</td>\n",
       "      <td>Ensino superior</td>\n",
       "      <td>União-estável</td>\n",
       "      <td>2</td>\n",
       "      <td>Empregado</td>\n",
       "      <td>Outro</td>\n",
       "      <td>12</td>\n",
       "      <td>427500.0</td>\n",
       "      <td>1</td>\n",
       "      <td>Apartamento alugado</td>\n",
       "    </tr>\n",
       "    <tr>\n",
       "      <th>1</th>\n",
       "      <td>5008805</td>\n",
       "      <td>32</td>\n",
       "      <td>Ensino superior</td>\n",
       "      <td>União-estável</td>\n",
       "      <td>2</td>\n",
       "      <td>Empregado</td>\n",
       "      <td>Outro</td>\n",
       "      <td>12</td>\n",
       "      <td>427500.0</td>\n",
       "      <td>1</td>\n",
       "      <td>Apartamento alugado</td>\n",
       "    </tr>\n",
       "  </tbody>\n",
       "</table>\n",
       "</div>"
      ],
      "text/plain": [
       "   ID_Cliente  Idade Grau_escolaridade   Estado_civil  Tamanho_familia  \\\n",
       "0     5008804     32   Ensino superior  União-estável                2   \n",
       "1     5008805     32   Ensino superior  União-estável                2   \n",
       "\n",
       "  Categoria_de_renda Ocupacao  Anos_empregado  Rendimento_anual  Tem_carro  \\\n",
       "0          Empregado    Outro              12          427500.0          1   \n",
       "1          Empregado    Outro              12          427500.0          1   \n",
       "\n",
       "               Moradia  \n",
       "0  Apartamento alugado  \n",
       "1  Apartamento alugado  "
      ]
     },
     "execution_count": 6,
     "metadata": {},
     "output_type": "execute_result"
    }
   ],
   "source": [
    "pd.read_sql_table('Clientes', engine).head(2)"
   ]
  },
  {
   "cell_type": "markdown",
   "metadata": {},
   "source": [
    "Exercicio 3: Realizar três atualizações no banco de dados:\n",
    "\n",
    "Atualizar o registro do cliente de ID 6840104 que teve o rendimento anual alterado para 300000.\n",
    "\n",
    "Excluir o registro do cliente de ID 5008809, pois essa pessoa não possui mais conta na instituição \n",
    "financeira.\n",
    "\n",
    "Criar um novo registro de cliente seguindo as especificações abaixo:\n",
    "\n",
    "ID_Cliente: 6850985\n",
    "\n",
    "Idade: 33\n",
    "\n",
    "Grau_escolaridade: Doutorado\n",
    "\n",
    "Estado_civil: Solteiro\n",
    "\n",
    "Tamanho_familia: 1\n",
    "\n",
    "Categoria_de_renda: Empregado\n",
    "\n",
    "Ocupacao: TI\n",
    "\n",
    "Anos_empregado: 2\n",
    "\n",
    "Rendimento_anual: 290000\n",
    "\n",
    "Tem_carro: 0\n",
    "\n",
    "Moradia: Casa/apartamento próprio"
   ]
  },
  {
   "cell_type": "code",
   "execution_count": 11,
   "metadata": {},
   "outputs": [
    {
     "data": {
      "text/html": [
       "<div>\n",
       "<style scoped>\n",
       "    .dataframe tbody tr th:only-of-type {\n",
       "        vertical-align: middle;\n",
       "    }\n",
       "\n",
       "    .dataframe tbody tr th {\n",
       "        vertical-align: top;\n",
       "    }\n",
       "\n",
       "    .dataframe thead th {\n",
       "        text-align: right;\n",
       "    }\n",
       "</style>\n",
       "<table border=\"1\" class=\"dataframe\">\n",
       "  <thead>\n",
       "    <tr style=\"text-align: right;\">\n",
       "      <th></th>\n",
       "      <th>ID_Cliente</th>\n",
       "      <th>Idade</th>\n",
       "      <th>Grau_escolaridade</th>\n",
       "      <th>Estado_civil</th>\n",
       "      <th>Tamanho_familia</th>\n",
       "      <th>Categoria_de_renda</th>\n",
       "      <th>Ocupacao</th>\n",
       "      <th>Anos_empregado</th>\n",
       "      <th>Rendimento_anual</th>\n",
       "      <th>Tem_carro</th>\n",
       "      <th>Moradia</th>\n",
       "    </tr>\n",
       "  </thead>\n",
       "  <tbody>\n",
       "    <tr>\n",
       "      <th>0</th>\n",
       "      <td>6840104</td>\n",
       "      <td>62</td>\n",
       "      <td>Ensino médio</td>\n",
       "      <td>Divorciado</td>\n",
       "      <td>1</td>\n",
       "      <td>Pensionista</td>\n",
       "      <td>Outro</td>\n",
       "      <td>0</td>\n",
       "      <td>135000.0</td>\n",
       "      <td>0</td>\n",
       "      <td>Casa/apartamento próprio</td>\n",
       "    </tr>\n",
       "  </tbody>\n",
       "</table>\n",
       "</div>"
      ],
      "text/plain": [
       "   ID_Cliente  Idade Grau_escolaridade Estado_civil  Tamanho_familia  \\\n",
       "0     6840104     62      Ensino médio   Divorciado                1   \n",
       "\n",
       "  Categoria_de_renda Ocupacao  Anos_empregado  Rendimento_anual  Tem_carro  \\\n",
       "0        Pensionista    Outro               0          135000.0          0   \n",
       "\n",
       "                    Moradia  \n",
       "0  Casa/apartamento próprio  "
      ]
     },
     "execution_count": 11,
     "metadata": {},
     "output_type": "execute_result"
    }
   ],
   "source": [
    "show = text('SELECT * FROM Clientes WHERE ID_Cliente=6840104')\n",
    "pd.read_sql(show, engine)"
   ]
  },
  {
   "cell_type": "code",
   "execution_count": 12,
   "metadata": {},
   "outputs": [
    {
     "data": {
      "text/html": [
       "<div>\n",
       "<style scoped>\n",
       "    .dataframe tbody tr th:only-of-type {\n",
       "        vertical-align: middle;\n",
       "    }\n",
       "\n",
       "    .dataframe tbody tr th {\n",
       "        vertical-align: top;\n",
       "    }\n",
       "\n",
       "    .dataframe thead th {\n",
       "        text-align: right;\n",
       "    }\n",
       "</style>\n",
       "<table border=\"1\" class=\"dataframe\">\n",
       "  <thead>\n",
       "    <tr style=\"text-align: right;\">\n",
       "      <th></th>\n",
       "      <th>ID_Cliente</th>\n",
       "      <th>Idade</th>\n",
       "      <th>Grau_escolaridade</th>\n",
       "      <th>Estado_civil</th>\n",
       "      <th>Tamanho_familia</th>\n",
       "      <th>Categoria_de_renda</th>\n",
       "      <th>Ocupacao</th>\n",
       "      <th>Anos_empregado</th>\n",
       "      <th>Rendimento_anual</th>\n",
       "      <th>Tem_carro</th>\n",
       "      <th>Moradia</th>\n",
       "    </tr>\n",
       "  </thead>\n",
       "  <tbody>\n",
       "    <tr>\n",
       "      <th>0</th>\n",
       "      <td>6840104</td>\n",
       "      <td>62</td>\n",
       "      <td>Ensino médio</td>\n",
       "      <td>Divorciado</td>\n",
       "      <td>1</td>\n",
       "      <td>Pensionista</td>\n",
       "      <td>Outro</td>\n",
       "      <td>0</td>\n",
       "      <td>300000.0</td>\n",
       "      <td>0</td>\n",
       "      <td>Casa/apartamento próprio</td>\n",
       "    </tr>\n",
       "  </tbody>\n",
       "</table>\n",
       "</div>"
      ],
      "text/plain": [
       "   ID_Cliente  Idade Grau_escolaridade Estado_civil  Tamanho_familia  \\\n",
       "0     6840104     62      Ensino médio   Divorciado                1   \n",
       "\n",
       "  Categoria_de_renda Ocupacao  Anos_empregado  Rendimento_anual  Tem_carro  \\\n",
       "0        Pensionista    Outro               0          300000.0          0   \n",
       "\n",
       "                    Moradia  \n",
       "0  Casa/apartamento próprio  "
      ]
     },
     "execution_count": 12,
     "metadata": {},
     "output_type": "execute_result"
    }
   ],
   "source": [
    "query = text('UPDATE Clientes SET Rendimento_anual=300000 WHERE ID_Cliente=6840104 ')\n",
    "\n",
    "with engine.connect() as conn:\n",
    "    conn.execute(query)\n",
    "    conn.commit()\n",
    "\n",
    "pd.read_sql(show, engine)"
   ]
  },
  {
   "cell_type": "code",
   "execution_count": 13,
   "metadata": {},
   "outputs": [
    {
     "data": {
      "text/html": [
       "<div>\n",
       "<style scoped>\n",
       "    .dataframe tbody tr th:only-of-type {\n",
       "        vertical-align: middle;\n",
       "    }\n",
       "\n",
       "    .dataframe tbody tr th {\n",
       "        vertical-align: top;\n",
       "    }\n",
       "\n",
       "    .dataframe thead th {\n",
       "        text-align: right;\n",
       "    }\n",
       "</style>\n",
       "<table border=\"1\" class=\"dataframe\">\n",
       "  <thead>\n",
       "    <tr style=\"text-align: right;\">\n",
       "      <th></th>\n",
       "      <th>ID_Cliente</th>\n",
       "      <th>Idade</th>\n",
       "      <th>Grau_escolaridade</th>\n",
       "      <th>Estado_civil</th>\n",
       "      <th>Tamanho_familia</th>\n",
       "      <th>Categoria_de_renda</th>\n",
       "      <th>Ocupacao</th>\n",
       "      <th>Anos_empregado</th>\n",
       "      <th>Rendimento_anual</th>\n",
       "      <th>Tem_carro</th>\n",
       "      <th>Moradia</th>\n",
       "    </tr>\n",
       "  </thead>\n",
       "  <tbody>\n",
       "    <tr>\n",
       "      <th>0</th>\n",
       "      <td>5008809</td>\n",
       "      <td>52</td>\n",
       "      <td>Ensino médio</td>\n",
       "      <td>Solteiro</td>\n",
       "      <td>1</td>\n",
       "      <td>Associado comercial</td>\n",
       "      <td>Vendas</td>\n",
       "      <td>8</td>\n",
       "      <td>270000.0</td>\n",
       "      <td>0</td>\n",
       "      <td>Casa/apartamento próprio</td>\n",
       "    </tr>\n",
       "  </tbody>\n",
       "</table>\n",
       "</div>"
      ],
      "text/plain": [
       "   ID_Cliente  Idade Grau_escolaridade Estado_civil  Tamanho_familia  \\\n",
       "0     5008809     52      Ensino médio     Solteiro                1   \n",
       "\n",
       "    Categoria_de_renda Ocupacao  Anos_empregado  Rendimento_anual  Tem_carro  \\\n",
       "0  Associado comercial   Vendas               8          270000.0          0   \n",
       "\n",
       "                    Moradia  \n",
       "0  Casa/apartamento próprio  "
      ]
     },
     "execution_count": 13,
     "metadata": {},
     "output_type": "execute_result"
    }
   ],
   "source": [
    "show_2 = text('SELECT * FROM Clientes WHERE ID_Cliente=5008809')\n",
    "pd.read_sql(show_2, engine)"
   ]
  },
  {
   "cell_type": "code",
   "execution_count": 16,
   "metadata": {},
   "outputs": [
    {
     "data": {
      "text/html": [
       "<div>\n",
       "<style scoped>\n",
       "    .dataframe tbody tr th:only-of-type {\n",
       "        vertical-align: middle;\n",
       "    }\n",
       "\n",
       "    .dataframe tbody tr th {\n",
       "        vertical-align: top;\n",
       "    }\n",
       "\n",
       "    .dataframe thead th {\n",
       "        text-align: right;\n",
       "    }\n",
       "</style>\n",
       "<table border=\"1\" class=\"dataframe\">\n",
       "  <thead>\n",
       "    <tr style=\"text-align: right;\">\n",
       "      <th></th>\n",
       "      <th>ID_Cliente</th>\n",
       "      <th>Idade</th>\n",
       "      <th>Grau_escolaridade</th>\n",
       "      <th>Estado_civil</th>\n",
       "      <th>Tamanho_familia</th>\n",
       "      <th>Categoria_de_renda</th>\n",
       "      <th>Ocupacao</th>\n",
       "      <th>Anos_empregado</th>\n",
       "      <th>Rendimento_anual</th>\n",
       "      <th>Tem_carro</th>\n",
       "      <th>Moradia</th>\n",
       "    </tr>\n",
       "  </thead>\n",
       "  <tbody>\n",
       "  </tbody>\n",
       "</table>\n",
       "</div>"
      ],
      "text/plain": [
       "Empty DataFrame\n",
       "Columns: [ID_Cliente, Idade, Grau_escolaridade, Estado_civil, Tamanho_familia, Categoria_de_renda, Ocupacao, Anos_empregado, Rendimento_anual, Tem_carro, Moradia]\n",
       "Index: []"
      ]
     },
     "execution_count": 16,
     "metadata": {},
     "output_type": "execute_result"
    }
   ],
   "source": [
    "query_2 = text('DELETE FROM Clientes WHERE ID_Cliente=5008809')\n",
    "\n",
    "with engine.connect() as conn:\n",
    "    conn.execute(query_2)\n",
    "    conn.commit()\n",
    "\n",
    "pd.read_sql(show_2, engine)"
   ]
  },
  {
   "cell_type": "code",
   "execution_count": 17,
   "metadata": {},
   "outputs": [
    {
     "data": {
      "text/html": [
       "<div>\n",
       "<style scoped>\n",
       "    .dataframe tbody tr th:only-of-type {\n",
       "        vertical-align: middle;\n",
       "    }\n",
       "\n",
       "    .dataframe tbody tr th {\n",
       "        vertical-align: top;\n",
       "    }\n",
       "\n",
       "    .dataframe thead th {\n",
       "        text-align: right;\n",
       "    }\n",
       "</style>\n",
       "<table border=\"1\" class=\"dataframe\">\n",
       "  <thead>\n",
       "    <tr style=\"text-align: right;\">\n",
       "      <th></th>\n",
       "      <th>ID_Cliente</th>\n",
       "      <th>Idade</th>\n",
       "      <th>Grau_escolaridade</th>\n",
       "      <th>Estado_civil</th>\n",
       "      <th>Tamanho_familia</th>\n",
       "      <th>Categoria_de_renda</th>\n",
       "      <th>Ocupacao</th>\n",
       "      <th>Anos_empregado</th>\n",
       "      <th>Rendimento_anual</th>\n",
       "      <th>Tem_carro</th>\n",
       "      <th>Moradia</th>\n",
       "    </tr>\n",
       "  </thead>\n",
       "  <tbody>\n",
       "  </tbody>\n",
       "</table>\n",
       "</div>"
      ],
      "text/plain": [
       "Empty DataFrame\n",
       "Columns: [ID_Cliente, Idade, Grau_escolaridade, Estado_civil, Tamanho_familia, Categoria_de_renda, Ocupacao, Anos_empregado, Rendimento_anual, Tem_carro, Moradia]\n",
       "Index: []"
      ]
     },
     "execution_count": 17,
     "metadata": {},
     "output_type": "execute_result"
    }
   ],
   "source": [
    "show_3 = text('SELECT * FROM Clientes WHERE ID_Cliente=6850985')\n",
    "pd.read_sql(show_3, engine)"
   ]
  },
  {
   "cell_type": "code",
   "execution_count": 19,
   "metadata": {},
   "outputs": [
    {
     "data": {
      "text/html": [
       "<div>\n",
       "<style scoped>\n",
       "    .dataframe tbody tr th:only-of-type {\n",
       "        vertical-align: middle;\n",
       "    }\n",
       "\n",
       "    .dataframe tbody tr th {\n",
       "        vertical-align: top;\n",
       "    }\n",
       "\n",
       "    .dataframe thead th {\n",
       "        text-align: right;\n",
       "    }\n",
       "</style>\n",
       "<table border=\"1\" class=\"dataframe\">\n",
       "  <thead>\n",
       "    <tr style=\"text-align: right;\">\n",
       "      <th></th>\n",
       "      <th>ID_Cliente</th>\n",
       "      <th>Idade</th>\n",
       "      <th>Grau_escolaridade</th>\n",
       "      <th>Estado_civil</th>\n",
       "      <th>Tamanho_familia</th>\n",
       "      <th>Categoria_de_renda</th>\n",
       "      <th>Ocupacao</th>\n",
       "      <th>Anos_empregado</th>\n",
       "      <th>Rendimento_anual</th>\n",
       "      <th>Tem_carro</th>\n",
       "      <th>Moradia</th>\n",
       "    </tr>\n",
       "  </thead>\n",
       "  <tbody>\n",
       "    <tr>\n",
       "      <th>0</th>\n",
       "      <td>6850985</td>\n",
       "      <td>33</td>\n",
       "      <td>Doutorado</td>\n",
       "      <td>Solteiro</td>\n",
       "      <td>1</td>\n",
       "      <td>Empregado</td>\n",
       "      <td>TI</td>\n",
       "      <td>2</td>\n",
       "      <td>290000.0</td>\n",
       "      <td>0</td>\n",
       "      <td>Casa/apartamento próprio</td>\n",
       "    </tr>\n",
       "  </tbody>\n",
       "</table>\n",
       "</div>"
      ],
      "text/plain": [
       "   ID_Cliente  Idade Grau_escolaridade Estado_civil  Tamanho_familia  \\\n",
       "0     6850985     33         Doutorado     Solteiro                1   \n",
       "\n",
       "  Categoria_de_renda Ocupacao  Anos_empregado  Rendimento_anual  Tem_carro  \\\n",
       "0          Empregado       TI               2          290000.0          0   \n",
       "\n",
       "                    Moradia  \n",
       "0  Casa/apartamento próprio  "
      ]
     },
     "execution_count": 19,
     "metadata": {},
     "output_type": "execute_result"
    }
   ],
   "source": [
    "query_3 = text('INSERT INTO Clientes (ID_Cliente, Idade, Grau_escolaridade, Estado_civil, ' \\\n",
    "        'Tamanho_familia, Categoria_de_renda, Ocupacao, Anos_empregado, ' \\\n",
    "        'Rendimento_anual, Tem_carro, Moradia) ' \\\n",
    "        'VALUES (6850985, 33, \"Doutorado\", \"Solteiro\", 1, \"Empregado\", \"TI\", ' \\\n",
    "        '2, 290000, 0, \"Casa/apartamento próprio\")')\n",
    "\n",
    "with engine.connect() as conn:\n",
    "    conn.execute(query_3)\n",
    "    conn.commit()\n",
    "\n",
    "pd.read_sql(show_3, engine)"
   ]
  }
 ],
 "metadata": {
  "kernelspec": {
   "display_name": "Python 3",
   "language": "python",
   "name": "python3"
  },
  "language_info": {
   "codemirror_mode": {
    "name": "ipython",
    "version": 3
   },
   "file_extension": ".py",
   "mimetype": "text/x-python",
   "name": "python",
   "nbconvert_exporter": "python",
   "pygments_lexer": "ipython3",
   "version": "3.11.7"
  }
 },
 "nbformat": 4,
 "nbformat_minor": 2
}
