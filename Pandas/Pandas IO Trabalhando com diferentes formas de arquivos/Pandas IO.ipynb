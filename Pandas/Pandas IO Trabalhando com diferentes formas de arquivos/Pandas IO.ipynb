{
 "cells": [
  {
   "cell_type": "markdown",
   "metadata": {},
   "source": [
    "Aula 1: Fazendo a leitura de arquivso CSV"
   ]
  },
  {
   "cell_type": "code",
   "execution_count": null,
   "metadata": {},
   "outputs": [],
   "source": [
    "# Lendo arquivos CSV\n",
    "\n",
    "import pandas as pd\n",
    "\n",
    "url = 'https://raw.githubusercontent.com/alura-cursos/pandas/main/superstore_data.csv' #carrega a url com os dados que vamos usar\n",
    "dados_mercado = pd.read_csv(url, sep=',') # le o arquivo CSV e salva eles na varivel, sep = ',' diz que o arquivo tem os dados separados por ,"
   ]
  },
  {
   "cell_type": "code",
   "execution_count": null,
   "metadata": {},
   "outputs": [],
   "source": [
    "dados_mercado.head() #.head() mostar as 5 primeiras linhas do DF"
   ]
  },
  {
   "cell_type": "code",
   "execution_count": null,
   "metadata": {},
   "outputs": [],
   "source": [
    "url_2 = 'https://raw.githubusercontent.com/alura-cursos/Pandas/main/superstore_data_ponto_virgula.csv'\n",
    "\n",
    "dados_ponto_virgula = pd.read_csv(url_2, sep= ';') # sep diz que os dados são separados por ';', se não colocar o sep=';' o arquivos nãob é lido corretamente, sempre prestar atenção no arquivo bruto pra ver como os dados são separados \n",
    "dados_ponto_virgula.head()\n"
   ]
  },
  {
   "cell_type": "markdown",
   "metadata": {},
   "source": [
    "Como detectar o encoding de um arquivo CSV\n",
    "\n"
   ]
  },
  {
   "cell_type": "markdown",
   "metadata": {},
   "source": [
    "import chardet\n",
    "\n",
    "with open('/content/dados.csv', 'rb') as file:\n",
    "    print(chardet.detect(file.read()))\n",
    "\n",
    "\n",
    "'''\n",
    "Note que a primeira linha deste código abre o arquivo CSV em modo de leitura binária rb e atribui o objeto de arquivo retornado a uma variável chamada file\n",
    "\n",
    "Na segunda linha do código, o conteúdo do arquivo CSV é lido usando o método read() e o resultado é passado para a função chardet.detect(), que retorna um dicionário contendo informações sobre a codificação mais provável do arquivo. O resultado é impresso com a função print() que mostra a codificação e a confiança associada a essa codificação.\n",
    "\n",
    "Ao executar o código Giovanna obteve o seguinte resultado:\n",
    "\n",
    "{'encoding': 'ISO-8859-1', 'confidence': 0.73, 'language': ''}\n",
    "\n",
    "Agora ela sabe que o arquivo CSV provavelmente possui a codificação ISO-8859-1 com uma confiança de 0.73. Para especificar a codificação correta ao carregar o arquivo CSV com a biblioteca Pandas, é possível usar um parâmetro chamado encoding:\n",
    "\n",
    "df = pd.read_csv('/content/dados.csv', encoding='ISO-8859-1')\n",
    "\n",
    "Desta forma, a biblioteca Pandas irá carregar o arquivo CSV usando a codificação ISO-8859-1, o que vai resolver o erro de encoding. Então, se algum dia você tentar ler um arquivo e surgir esse mesmo erro, lembre-se dessa dica!\n",
    "'''\n",
    "\n"
   ]
  },
  {
   "cell_type": "code",
   "execution_count": null,
   "metadata": {},
   "outputs": [],
   "source": [
    "# Parâmetros da função read_csv\n",
    "\n",
    "dados_primeiras_linhas = pd.read_csv(url, nrows = 5) # nrows = x pega só as x primeiras linhas do DF, não pegadno todo o DF, isso serva para uma simples vizualização do DF, sem ter que acrregar ele todo\n",
    "dados_primeiras_linhas"
   ]
  },
  {
   "cell_type": "code",
   "execution_count": null,
   "metadata": {},
   "outputs": [],
   "source": [
    "dados_selecao = pd.read_csv(url, usecols = ['Id', 'Year_Birth', 'Income']) # usecols = ['x','y','z'], pega só colunas expecificas do DF, no exemplo ele só pegas as colunas com nome x, y, z, as colunas tambem poder ser chamadas por idexação exemplo usecols = [0, 1, 4]), mopstra as mesmas colunas chamada por nome acima só que agora por indexação\n",
    "dados_selecao"
   ]
  },
  {
   "cell_type": "code",
   "execution_count": null,
   "metadata": {},
   "outputs": [],
   "source": [
    "# escervendo arquivos CSV\n",
    "\n",
    "dados_selecao.to_csv('clientes_mercado.csv', index = False) # to_csv('nome') salva uma arquivo na maquina com o nome passado no parenteses, index=False esse parametro serve par que quando for salvar um arquivo não seja adicionado uma coluna nova de index"
   ]
  },
  {
   "cell_type": "code",
   "execution_count": null,
   "metadata": {},
   "outputs": [],
   "source": [
    "clientes_mercado = pd.read_csv('clientes_mercado.csv') # vizualização pra te certeza se foi salvo corretamente\n",
    "clientes_mercado"
   ]
  },
  {
   "cell_type": "markdown",
   "metadata": {},
   "source": [
    "Aula 2: Utilizando planilhas"
   ]
  },
  {
   "cell_type": "code",
   "execution_count": null,
   "metadata": {},
   "outputs": [],
   "source": [
    "# Lendo arquivos Exel\n",
    "\n",
    "url_3 = 'https://github.com/alura-cursos/Pandas/blob/main/emissoes_CO2.xlsx?raw=True'\n",
    "# raw = True significa que está trazendo os dados brutos \n",
    "\n",
    "dados_co2 = pd.read_excel(url_3) # .pd.read_excel(nome) le arquivos xlsx\n",
    "\n",
    "dados_co2.head()"
   ]
  },
  {
   "cell_type": "code",
   "execution_count": null,
   "metadata": {},
   "outputs": [],
   "source": [
    "pd.ExcelFile(url_3).sheet_names # .ExelFile() diz que é um arqivo excel, .sheet_names vé se não tem outras paginas (paginas são outras planilhas) dentro do arquivo excel "
   ]
  },
  {
   "cell_type": "markdown",
   "metadata": {},
   "source": [
    "read_excel pode ler os seguintes tipos de arquivo, xls, xlsm, xlsb, odf, ods e odt."
   ]
  },
  {
   "cell_type": "code",
   "execution_count": null,
   "metadata": {},
   "outputs": [],
   "source": [
    "# Parametros da função read_excel\n",
    "\n",
    "percapita = pd.read_excel(url_3, sheet_name='emissoes_percapita') # sheet_name = 'emissoes_percapita' le a pagina e salva ela em percapita"
   ]
  },
  {
   "cell_type": "code",
   "execution_count": null,
   "metadata": {},
   "outputs": [],
   "source": [
    "percapita.head()"
   ]
  },
  {
   "cell_type": "code",
   "execution_count": null,
   "metadata": {},
   "outputs": [],
   "source": [
    "fontes = pd.read_excel(url_3, sheet_name='fontes') # carrega a terceira pagina "
   ]
  },
  {
   "cell_type": "code",
   "execution_count": null,
   "metadata": {},
   "outputs": [],
   "source": [
    "fontes.head()"
   ]
  },
  {
   "cell_type": "code",
   "execution_count": null,
   "metadata": {},
   "outputs": [],
   "source": [
    "intervalo = pd.read_excel(url_3, sheet_name= 'emissoes_C02', usecols= 'A:D') # usecols serve para selecionar colunas expecificas da planilha, no exemplo acima está selecionando da coluna A até a coluna D "
   ]
  },
  {
   "cell_type": "code",
   "execution_count": null,
   "metadata": {},
   "outputs": [],
   "source": [
    "intervalo"
   ]
  },
  {
   "cell_type": "code",
   "execution_count": null,
   "metadata": {},
   "outputs": [],
   "source": [
    "intervalo_2 = pd.read_excel(url_3, sheet_name= 'emissoes_C02', usecols= 'A:D', nrows= 10) \n",
    "# nrows = x retorna as x primieras linhas"
   ]
  },
  {
   "cell_type": "code",
   "execution_count": null,
   "metadata": {},
   "outputs": [],
   "source": [
    "intervalo_2"
   ]
  },
  {
   "cell_type": "code",
   "execution_count": null,
   "metadata": {},
   "outputs": [],
   "source": [
    "# Escrevendo (salvando) arquivos Excel\n",
    "\n",
    "percapita.to_excel('Percapita_CO2.xlsx', index=False) # to_excel salva o arquivo percapita na pasta em que o codigo está e nome que o arquivo recebe é o nome que passa entre aspas, index=False é para não salvar com o index"
   ]
  },
  {
   "cell_type": "code",
   "execution_count": null,
   "metadata": {},
   "outputs": [],
   "source": [
    "pd.read_excel('Percapita_CO2.xlsx')"
   ]
  },
  {
   "cell_type": "code",
   "execution_count": null,
   "metadata": {},
   "outputs": [],
   "source": [
    "# Lendo dados do Google Planilhas \n",
    "\n",
    "'''https://docs.google.com/spreadsheets/d/1Z6crkywaULV1p33NKy2a_rGgQ_D9h7dpdCsPjv3NXZo/edit?usp=sharing  # o ID da planilha começa depois do 'd/' e vai até o 'o' no case : '1Z6crkywaULV1p33NKy2a_rGgQ_D9h7dpdCsPjv3NXZo'''"
   ]
  },
  {
   "cell_type": "code",
   "execution_count": null,
   "metadata": {},
   "outputs": [],
   "source": [
    "sheet_id = '1Z6crkywaULV1p33NKy2a_rGgQ_D9h7dpdCsPjv3NXZo' # id da planilha, o id é tudo o que aparece entre 'd/' e '/edit'."
   ]
  },
  {
   "cell_type": "code",
   "execution_count": null,
   "metadata": {},
   "outputs": [],
   "source": [
    "url_4 = f'https://docs.google.com/spreadsheets/d/{sheet_id}/gviz/tq?tqx=out:csv&sheet' # pra não ficar tão grande a linha e facilitar o vizualização pode apagar a parte do link do final até o 'd/', coloca o link dentro de uma f string e no final passa a variavel que contem o ID da planilha, /gviz/tq indica que você deseja acessar o recurso de consulta de dados da API de visualização de dados, ?tqx=out:csv para que os dados sejam retornados no formato CSV, &sheet esse comando faz que todos os dados sejam retornados (cabeçaljo, linhas, colunas, etc)"
   ]
  },
  {
   "cell_type": "code",
   "execution_count": null,
   "metadata": {},
   "outputs": [],
   "source": [
    "dados_co2_sheets =  pd.read_csv(url_4)"
   ]
  },
  {
   "cell_type": "code",
   "execution_count": null,
   "metadata": {},
   "outputs": [],
   "source": [
    "dados_co2_sheets.head()"
   ]
  },
  {
   "cell_type": "code",
   "execution_count": null,
   "metadata": {},
   "outputs": [],
   "source": [
    "sheet_id = '1Z6crkywaULV1p33NKy2a_rGgQ_D9h7dpdCsPjv3NXZo'\n",
    "sheet_name = 'emissoes_percapita'\n",
    "url_percapita = f'https://docs.google.com/spreadsheets/d/{sheet_id}/gviz/tq?tqx=out:csv&sheet={sheet_name}' # isso tudo é pra carregar a segunda pagina da planilha \n"
   ]
  },
  {
   "cell_type": "code",
   "execution_count": null,
   "metadata": {},
   "outputs": [],
   "source": [
    "percapita_sheets = pd.read_csv(url_percapita)\n",
    "percapita_sheets.head()"
   ]
  },
  {
   "cell_type": "code",
   "execution_count": null,
   "metadata": {},
   "outputs": [],
   "source": [
    "sheet_id = '1Z6crkywaULV1p33NKy2a_rGgQ_D9h7dpdCsPjv3NXZo'\n",
    "sheet_name = 'fontes'\n",
    "url_fontes = f'https://docs.google.com/spreadsheets/d/{sheet_id}/gviz/tq?tqx=out:csv&sheet={sheet_name}' # isso tudo é pra carregar a terceira tabela da planilha \n"
   ]
  },
  {
   "cell_type": "code",
   "execution_count": null,
   "metadata": {},
   "outputs": [],
   "source": [
    "fontes_sheets = pd.read_csv(url_fontes)\n",
    "fontes_sheets.head()"
   ]
  },
  {
   "cell_type": "markdown",
   "metadata": {},
   "source": [
    "Aula 3: Manipulando arquivos JSON "
   ]
  },
  {
   "cell_type": "code",
   "execution_count": null,
   "metadata": {},
   "outputs": [],
   "source": [
    "# Lendo arquivos JSON\n",
    "\n",
    "'''\n",
    "um arquivo JSON é como se fosse um dicionario em python, contendo chaves e valores, cada chave tem seu valor ex:\n",
    "\n",
    "{\"ID\":\"01\", \"Faixa_etaria\":\"55-59\", \"Sexo_biologico\":\"Feminino\"}\n",
    "'''\n",
    "\n",
    "import pandas as pd \n",
    "\n",
    "url_5 = 'https://raw.githubusercontent.com/alura-cursos/Pandas/main/pacientes.json'\n",
    "dados_pacientes = pd.read_json(url_5)\n",
    "\n",
    "dados_pacientes"
   ]
  },
  {
   "cell_type": "code",
   "execution_count": null,
   "metadata": {},
   "outputs": [],
   "source": [
    "# nem sempre é facil carregar um arquivo JSON porque as vezes as informações podems estra aninhadas como as do exemplo abaixo: onde os dados ficam mal organizados prara a vizualização, pois elas estão aninhadas ou sejas os dados estão todos juntos sem separação das colunas e linhas\n",
    "\n",
    "url_6 = 'https://raw.githubusercontent.com/alura-cursos/Pandas/main/pacientes_2.json'\n",
    "dados_pacientes_2 = pd.read_json(url_6)\n",
    "dados_pacientes_2"
   ]
  },
  {
   "cell_type": "code",
   "execution_count": null,
   "metadata": {},
   "outputs": [],
   "source": [
    "# normalizadno arquivos JSON\n",
    "\n",
    "# usando o site jsoncrack voce pode vizualizar o arquivo jsaon que esta aninhado de uma forma compreensivel\n",
    "\n",
    "df_normalizado = pd.json_normalize(dados_pacientes_2['Pacientes']) # .json_normalize(variavel que contem o arquivo['qual a coluna que vc quer normalizar']), a coluna escolhida foi ecolhida por que os dados estão aninhados nela"
   ]
  },
  {
   "cell_type": "code",
   "execution_count": null,
   "metadata": {},
   "outputs": [],
   "source": [
    "df_normalizado"
   ]
  },
  {
   "cell_type": "code",
   "execution_count": null,
   "metadata": {},
   "outputs": [],
   "source": [
    "# record_path Esse parâmetro é usado na função pd.json_normalize() para especificar o caminho para os registros que devem ser normalizados em um DataFrame separado, meta O resultado parece ótimo, mas não inclui as colunas “Pesquisa” e “Ano”. Para incluí-las, podemos usar o parâmetro meta para especificar outras colunas que queremos no DataFrame."
   ]
  },
  {
   "cell_type": "markdown",
   "metadata": {},
   "source": [
    "Importante: Na aula nós realizamos a normalização em um arquivo com o formato JSON. No entanto, a função json_normalize() aceita apenas um dicionário ou uma lista de dicionários. Por isso, no vídeo foi usada a estratégia de usar o código: pd.json_normalize(dados_pacientes_2['Pacientes']). Porém, se tentarmos usar parâmetros da função json_normalize em um arquivo JSON podem surgir erros. Para contornar isso, precisamos importar o módulo json e ler os arquivos conforme o código abaixo:"
   ]
  },
  {
   "cell_type": "code",
   "execution_count": null,
   "metadata": {},
   "outputs": [],
   "source": [
    "#Importando a biblioteca Pandas\n",
    "import pandas as pd\n",
    "\n",
    "#Importando o módulo JSON\n",
    "import json\n",
    "\n",
    "#Lendo o arquivo json usando o módulo Python JSON\n",
    "with open('pacientes_2.json','r') as f:\n",
    "    dados = json.loads(f.read())\n",
    "\n",
    "#Normalizando os dados com os parâmetros record_path e meta\n",
    "pd.json_normalize(dados, record_path='Pacientes', meta=['Pesquisa', 'Ano'])\n",
    "\n",
    "# record_path Esse parâmetro é usado na função pd.json_normalize() para especificar o caminho para os registros que devem ser normalizados em um DataFrame separado, meta O resultado parece ótimo, mas não inclui as colunas “Pesquisa” e “Ano”. Para incluí-las, podemos usar o parâmetro meta para especificar outras colunas que queremos no DataFrame.\n"
   ]
  },
  {
   "cell_type": "code",
   "execution_count": null,
   "metadata": {},
   "outputs": [],
   "source": [
    "# escrevendo arquivos JSON\n",
    "\n",
    "df_normalizado.to_json('historico_pacientes_normalizado.json')"
   ]
  },
  {
   "cell_type": "code",
   "execution_count": null,
   "metadata": {},
   "outputs": [],
   "source": [
    "pd.read_json('historico_pacientes_normalizado.json') # pode ser salvo em oputros formatos como csv ou exel"
   ]
  },
  {
   "cell_type": "markdown",
   "metadata": {},
   "source": [
    "Aula 4: Lendo dados em HTML e XML"
   ]
  },
  {
   "cell_type": "code",
   "execution_count": null,
   "metadata": {},
   "outputs": [],
   "source": [
    "# Lendo paginas Web\n",
    "\n",
    "# arquivo com os 100 melhores melhores filmes do cinema\n",
    "\n",
    "'''\n",
    "em HTML as tabelas que estão no site geralmente tem uma tab 'table' nelas no codigo do site\n",
    "\n",
    "inspecionando o codigo do site apertando ctrl,+,f vai abrir uma barra de pesquisa ai coloca <table> que vai mostrar as tabelas do site \n",
    "'''\n"
   ]
  },
  {
   "cell_type": "code",
   "execution_count": null,
   "metadata": {},
   "outputs": [],
   "source": [
    "import pandas as pd\n",
    "\n",
    "dados_html = pd.read_html('filmes_wikipedia.html') # quando usamos pd.read_html ele pega todas tabelas que existem no site e transforma cada uma em um DF e retorna todos os DFs dentro de uma lista, no caso  lista tem, 3 DFs \n",
    "\n",
    "dados_html  "
   ]
  },
  {
   "cell_type": "code",
   "execution_count": null,
   "metadata": {},
   "outputs": [],
   "source": [
    "type(dados_html) # retorna que o tipo é uma lista pois os DFs estão salvos dentro de uma lista"
   ]
  },
  {
   "cell_type": "code",
   "execution_count": null,
   "metadata": {},
   "outputs": [],
   "source": [
    "len(dados_html) # o resultado vai ser 3 posi temos 3 DFs dentro das listas"
   ]
  },
  {
   "cell_type": "code",
   "execution_count": null,
   "metadata": {},
   "outputs": [],
   "source": [
    "top_filmes = dados_html[1] # para podermos vizualizar o DF temos que selecionar ele na lista, com o DF que queremos ver é o segundo na lista e python começa com index 0 passamos o valor 1 e salvamos o DF na variavel top_filmes\n",
    "\n",
    "top_filmes"
   ]
  },
  {
   "cell_type": "code",
   "execution_count": null,
   "metadata": {},
   "outputs": [],
   "source": [
    "# escrevendo arquivos HTML (salvando)\n",
    "\n",
    "top_filmes.to_html('top_filmes.html') # salva o DF no fromato HTML, podemos salvar esses dados em outros formatos só mudando o 'to_html' para 'to_csv' ou outro formato"
   ]
  },
  {
   "cell_type": "code",
   "execution_count": null,
   "metadata": {},
   "outputs": [],
   "source": [
    "# lendo/escrevendo arquivos XML\n",
    "\n",
    "# XML (Extensible Markup Language, Linguagem de marcação extensivel)\n",
    "\n",
    "import pandas as pd \n",
    "\n",
    "dados_imdb = pd.read_xml('imdb_top_1000.xml')\n",
    "\n",
    "dados_imdb.head(2)"
   ]
  },
  {
   "cell_type": "code",
   "execution_count": null,
   "metadata": {},
   "outputs": [],
   "source": [
    "dados_imdb.to_xml('Filmes_imdb.xml')"
   ]
  },
  {
   "cell_type": "markdown",
   "metadata": {},
   "source": [
    "Aula 5: Trabalhando com banco de dados"
   ]
  },
  {
   "cell_type": "code",
   "execution_count": 22,
   "metadata": {},
   "outputs": [],
   "source": [
    "# Criando um banco de dados local\n",
    "\n",
    "import pandas as pd\n",
    "import sqlalchemy\n",
    "\n",
    "from sqlalchemy import create_engine, MetaData, Table, inspect # essa importação que faz aligação com o banco de dados, oque faz ele funcionar,create_engine cira a coneção com o banco de dados, a classe metaData ela representa as informações do banco de dados como as colunas, linhas, dados etc, a classe Table representa uma tabela em um banco de dados usada pra criar e manipular dados em uma tabela especifica, a função inspect permite inspecionar a estrututa do banco de dados como tabelas e colunas \n"
   ]
  },
  {
   "cell_type": "code",
   "execution_count": 23,
   "metadata": {},
   "outputs": [],
   "source": [
    "engine = create_engine('sqlite:///:memory:') # aqui voce está criando o banco de dados, create_engine cria o banco de dados, 'sqlite' especifica qual o Banco de dados que vai ser utilizado, 'memory' quer dizer que está usando um banco de dados local que está na memoria local, (é a URL de conexão, indicando que o banco de dados está em memória.)"
   ]
  },
  {
   "cell_type": "code",
   "execution_count": 24,
   "metadata": {},
   "outputs": [
    {
     "data": {
      "text/html": [
       "<div>\n",
       "<style scoped>\n",
       "    .dataframe tbody tr th:only-of-type {\n",
       "        vertical-align: middle;\n",
       "    }\n",
       "\n",
       "    .dataframe tbody tr th {\n",
       "        vertical-align: top;\n",
       "    }\n",
       "\n",
       "    .dataframe thead th {\n",
       "        text-align: right;\n",
       "    }\n",
       "</style>\n",
       "<table border=\"1\" class=\"dataframe\">\n",
       "  <thead>\n",
       "    <tr style=\"text-align: right;\">\n",
       "      <th></th>\n",
       "      <th>ID_Cliente</th>\n",
       "      <th>Idade</th>\n",
       "      <th>Grau_escolaridade</th>\n",
       "      <th>Estado_civil</th>\n",
       "      <th>Tamanho_familia</th>\n",
       "      <th>Categoria_de_renda</th>\n",
       "      <th>Ocupacao</th>\n",
       "      <th>Anos_empregado</th>\n",
       "      <th>Rendimento_anual</th>\n",
       "      <th>Tem_carro</th>\n",
       "      <th>Moradia</th>\n",
       "    </tr>\n",
       "  </thead>\n",
       "  <tbody>\n",
       "    <tr>\n",
       "      <th>0</th>\n",
       "      <td>5008804</td>\n",
       "      <td>32</td>\n",
       "      <td>Ensino superior</td>\n",
       "      <td>União-estável</td>\n",
       "      <td>2</td>\n",
       "      <td>Empregado</td>\n",
       "      <td>Outro</td>\n",
       "      <td>12</td>\n",
       "      <td>427500.0</td>\n",
       "      <td>1</td>\n",
       "      <td>Apartamento alugado</td>\n",
       "    </tr>\n",
       "    <tr>\n",
       "      <th>1</th>\n",
       "      <td>5008805</td>\n",
       "      <td>32</td>\n",
       "      <td>Ensino superior</td>\n",
       "      <td>União-estável</td>\n",
       "      <td>2</td>\n",
       "      <td>Empregado</td>\n",
       "      <td>Outro</td>\n",
       "      <td>12</td>\n",
       "      <td>427500.0</td>\n",
       "      <td>1</td>\n",
       "      <td>Apartamento alugado</td>\n",
       "    </tr>\n",
       "    <tr>\n",
       "      <th>2</th>\n",
       "      <td>5008806</td>\n",
       "      <td>58</td>\n",
       "      <td>Ensino médio</td>\n",
       "      <td>Casado</td>\n",
       "      <td>2</td>\n",
       "      <td>Empregado</td>\n",
       "      <td>Segurança</td>\n",
       "      <td>3</td>\n",
       "      <td>112500.0</td>\n",
       "      <td>1</td>\n",
       "      <td>Casa/apartamento próprio</td>\n",
       "    </tr>\n",
       "    <tr>\n",
       "      <th>3</th>\n",
       "      <td>5008808</td>\n",
       "      <td>52</td>\n",
       "      <td>Ensino médio</td>\n",
       "      <td>Solteiro</td>\n",
       "      <td>1</td>\n",
       "      <td>Associado comercial</td>\n",
       "      <td>Vendas</td>\n",
       "      <td>8</td>\n",
       "      <td>270000.0</td>\n",
       "      <td>0</td>\n",
       "      <td>Casa/apartamento próprio</td>\n",
       "    </tr>\n",
       "    <tr>\n",
       "      <th>4</th>\n",
       "      <td>5008809</td>\n",
       "      <td>52</td>\n",
       "      <td>Ensino médio</td>\n",
       "      <td>Solteiro</td>\n",
       "      <td>1</td>\n",
       "      <td>Associado comercial</td>\n",
       "      <td>Vendas</td>\n",
       "      <td>8</td>\n",
       "      <td>270000.0</td>\n",
       "      <td>0</td>\n",
       "      <td>Casa/apartamento próprio</td>\n",
       "    </tr>\n",
       "  </tbody>\n",
       "</table>\n",
       "</div>"
      ],
      "text/plain": [
       "   ID_Cliente  Idade Grau_escolaridade   Estado_civil  Tamanho_familia  \\\n",
       "0     5008804     32   Ensino superior  União-estável                2   \n",
       "1     5008805     32   Ensino superior  União-estável                2   \n",
       "2     5008806     58      Ensino médio         Casado                2   \n",
       "3     5008808     52      Ensino médio       Solteiro                1   \n",
       "4     5008809     52      Ensino médio       Solteiro                1   \n",
       "\n",
       "    Categoria_de_renda   Ocupacao  Anos_empregado  Rendimento_anual  \\\n",
       "0            Empregado      Outro              12          427500.0   \n",
       "1            Empregado      Outro              12          427500.0   \n",
       "2            Empregado  Segurança               3          112500.0   \n",
       "3  Associado comercial     Vendas               8          270000.0   \n",
       "4  Associado comercial     Vendas               8          270000.0   \n",
       "\n",
       "   Tem_carro                   Moradia  \n",
       "0          1       Apartamento alugado  \n",
       "1          1       Apartamento alugado  \n",
       "2          1  Casa/apartamento próprio  \n",
       "3          0  Casa/apartamento próprio  \n",
       "4          0  Casa/apartamento próprio  "
      ]
     },
     "execution_count": 24,
     "metadata": {},
     "output_type": "execute_result"
    }
   ],
   "source": [
    "# escrevendo em um banco de dados \n",
    "\n",
    "url= 'https://raw.githubusercontent.com/alura-cursos/Pandas/main/clientes_banco.csv'\n",
    "\n",
    "dados_sql = pd.read_csv(url)\n",
    "\n",
    "dados_sql.head()"
   ]
  },
  {
   "cell_type": "code",
   "execution_count": 25,
   "metadata": {},
   "outputs": [
    {
     "data": {
      "text/plain": [
       "438463"
      ]
     },
     "execution_count": 25,
     "metadata": {},
     "output_type": "execute_result"
    }
   ],
   "source": [
    "dados_sql.to_sql('Clientes', engine, index= False) # to)_sql converte e salva os dados em sql, dentro da engine que vc passar (onde está o banco de dados)"
   ]
  },
  {
   "cell_type": "code",
   "execution_count": 1,
   "metadata": {},
   "outputs": [
    {
     "ename": "NameError",
     "evalue": "name 'inspect' is not defined",
     "output_type": "error",
     "traceback": [
      "\u001b[1;31m---------------------------------------------------------------------------\u001b[0m",
      "\u001b[1;31mNameError\u001b[0m                                 Traceback (most recent call last)",
      "Cell \u001b[1;32mIn[1], line 1\u001b[0m\n\u001b[1;32m----> 1\u001b[0m inspector \u001b[38;5;241m=\u001b[39m \u001b[43minspect\u001b[49m(engine) \u001b[38;5;66;03m# unsao a função inspect e passando o motor do banco de dados voce vai poder expecionar o banco de dados \u001b[39;00m\n",
      "\u001b[1;31mNameError\u001b[0m: name 'inspect' is not defined"
     ]
    }
   ],
   "source": [
    "inspector = inspect(engine) # unsao a função inspect e passando o motor do banco de dados voce vai poder expecionar o banco de dados "
   ]
  },
  {
   "cell_type": "code",
   "execution_count": 27,
   "metadata": {},
   "outputs": [
    {
     "name": "stdout",
     "output_type": "stream",
     "text": [
      "['Clientes']\n"
     ]
    }
   ],
   "source": [
    "print(inspector.get_table_names()) # get_table_nomes retorna o nome das tabelas que tem no banco de dados"
   ]
  },
  {
   "cell_type": "markdown",
   "metadata": {},
   "source": [
    "Alguns comandos em SQL\n",
    "\n",
    "SELECT: especifica quais colunas devem ser selecionadas na consulta.\n",
    "\n",
    "FROM: especifica as tabelas do banco de dados que devem ser consultadas.\n",
    "\n",
    "WHERE: filtra os resultados da consulta com base em uma ou mais condições especificadas.\n",
    "\n",
    "ORDER BY: classifica os resultados da consulta em ordem crescente ou decrescente com base em uma \n",
    "ou mais colunas.\n",
    "\n",
    "GROUP BY: agrupa os resultados da consulta com base em uma ou mais colunas.\n",
    "\n",
    "LIMIT: limita o número de linhas retornadas pelos resultados da consulta.\n",
    "\n",
    "*: significa todos os dados"
   ]
  },
  {
   "cell_type": "code",
   "execution_count": 28,
   "metadata": {},
   "outputs": [],
   "source": [
    "# Lendo uma consulta SQL\n",
    "# aqui vamos aprender a usar comando SQL pelo python\n",
    "\n",
    "# geralmente quando vamos passar um comando em SQL usamos a variavel de nome query, não é uma lei nem origação mas deixa o codigo mais claro\n",
    "\n",
    "query = 'SELECT * FROM Clientes WHERE Categoria_de_renda=\"Empregado\"' # dentro das aspas está o comadno em SQL, vamos separar a renda somente das pesoas que estão trablhando, o comadno pega da tabela CLientes na coluna Categoria_de_renda onde só quem tiver a informação 'empregado' salva"
   ]
  },
  {
   "cell_type": "code",
   "execution_count": 29,
   "metadata": {},
   "outputs": [
    {
     "data": {
      "text/html": [
       "<div>\n",
       "<style scoped>\n",
       "    .dataframe tbody tr th:only-of-type {\n",
       "        vertical-align: middle;\n",
       "    }\n",
       "\n",
       "    .dataframe tbody tr th {\n",
       "        vertical-align: top;\n",
       "    }\n",
       "\n",
       "    .dataframe thead th {\n",
       "        text-align: right;\n",
       "    }\n",
       "</style>\n",
       "<table border=\"1\" class=\"dataframe\">\n",
       "  <thead>\n",
       "    <tr style=\"text-align: right;\">\n",
       "      <th></th>\n",
       "      <th>ID_Cliente</th>\n",
       "      <th>Idade</th>\n",
       "      <th>Grau_escolaridade</th>\n",
       "      <th>Estado_civil</th>\n",
       "      <th>Tamanho_familia</th>\n",
       "      <th>Categoria_de_renda</th>\n",
       "      <th>Ocupacao</th>\n",
       "      <th>Anos_empregado</th>\n",
       "      <th>Rendimento_anual</th>\n",
       "      <th>Tem_carro</th>\n",
       "      <th>Moradia</th>\n",
       "    </tr>\n",
       "  </thead>\n",
       "  <tbody>\n",
       "    <tr>\n",
       "      <th>0</th>\n",
       "      <td>5008804</td>\n",
       "      <td>32</td>\n",
       "      <td>Ensino superior</td>\n",
       "      <td>União-estável</td>\n",
       "      <td>2</td>\n",
       "      <td>Empregado</td>\n",
       "      <td>Outro</td>\n",
       "      <td>12</td>\n",
       "      <td>427500.0</td>\n",
       "      <td>1</td>\n",
       "      <td>Apartamento alugado</td>\n",
       "    </tr>\n",
       "    <tr>\n",
       "      <th>1</th>\n",
       "      <td>5008805</td>\n",
       "      <td>32</td>\n",
       "      <td>Ensino superior</td>\n",
       "      <td>União-estável</td>\n",
       "      <td>2</td>\n",
       "      <td>Empregado</td>\n",
       "      <td>Outro</td>\n",
       "      <td>12</td>\n",
       "      <td>427500.0</td>\n",
       "      <td>1</td>\n",
       "      <td>Apartamento alugado</td>\n",
       "    </tr>\n",
       "    <tr>\n",
       "      <th>2</th>\n",
       "      <td>5008806</td>\n",
       "      <td>58</td>\n",
       "      <td>Ensino médio</td>\n",
       "      <td>Casado</td>\n",
       "      <td>2</td>\n",
       "      <td>Empregado</td>\n",
       "      <td>Segurança</td>\n",
       "      <td>3</td>\n",
       "      <td>112500.0</td>\n",
       "      <td>1</td>\n",
       "      <td>Casa/apartamento próprio</td>\n",
       "    </tr>\n",
       "    <tr>\n",
       "      <th>3</th>\n",
       "      <td>5008815</td>\n",
       "      <td>46</td>\n",
       "      <td>Ensino superior</td>\n",
       "      <td>Casado</td>\n",
       "      <td>2</td>\n",
       "      <td>Empregado</td>\n",
       "      <td>Contabilidade</td>\n",
       "      <td>2</td>\n",
       "      <td>270000.0</td>\n",
       "      <td>1</td>\n",
       "      <td>Casa/apartamento próprio</td>\n",
       "    </tr>\n",
       "    <tr>\n",
       "      <th>4</th>\n",
       "      <td>5112956</td>\n",
       "      <td>46</td>\n",
       "      <td>Ensino superior</td>\n",
       "      <td>Casado</td>\n",
       "      <td>2</td>\n",
       "      <td>Empregado</td>\n",
       "      <td>Contabilidade</td>\n",
       "      <td>2</td>\n",
       "      <td>270000.0</td>\n",
       "      <td>1</td>\n",
       "      <td>Casa/apartamento próprio</td>\n",
       "    </tr>\n",
       "  </tbody>\n",
       "</table>\n",
       "</div>"
      ],
      "text/plain": [
       "   ID_Cliente  Idade Grau_escolaridade   Estado_civil  Tamanho_familia  \\\n",
       "0     5008804     32   Ensino superior  União-estável                2   \n",
       "1     5008805     32   Ensino superior  União-estável                2   \n",
       "2     5008806     58      Ensino médio         Casado                2   \n",
       "3     5008815     46   Ensino superior         Casado                2   \n",
       "4     5112956     46   Ensino superior         Casado                2   \n",
       "\n",
       "  Categoria_de_renda       Ocupacao  Anos_empregado  Rendimento_anual  \\\n",
       "0          Empregado          Outro              12          427500.0   \n",
       "1          Empregado          Outro              12          427500.0   \n",
       "2          Empregado      Segurança               3          112500.0   \n",
       "3          Empregado  Contabilidade               2          270000.0   \n",
       "4          Empregado  Contabilidade               2          270000.0   \n",
       "\n",
       "   Tem_carro                   Moradia  \n",
       "0          1       Apartamento alugado  \n",
       "1          1       Apartamento alugado  \n",
       "2          1  Casa/apartamento próprio  \n",
       "3          1  Casa/apartamento próprio  \n",
       "4          1  Casa/apartamento próprio  "
      ]
     },
     "execution_count": 29,
     "metadata": {},
     "output_type": "execute_result"
    }
   ],
   "source": [
    "empregados = pd.read_sql(query, engine) # para executar o comando que foi passado na variavel query precisamos usar o read_sql e passamos o comadno que vai ser realizado e qual banco de dados ele vai ser reaçizado, no caso vamos usar o comadno no banco de dados engine \n",
    "\n",
    "empregados.head()"
   ]
  },
  {
   "cell_type": "code",
   "execution_count": 30,
   "metadata": {},
   "outputs": [
    {
     "data": {
      "text/plain": [
       "226059"
      ]
     },
     "execution_count": 30,
     "metadata": {},
     "output_type": "execute_result"
    }
   ],
   "source": [
    "empregados.to_sql('empregados',con=engine, index=False) # salvamsoa tebela dentro do nosso banco de dados engine"
   ]
  },
  {
   "cell_type": "code",
   "execution_count": 31,
   "metadata": {},
   "outputs": [
    {
     "data": {
      "text/html": [
       "<div>\n",
       "<style scoped>\n",
       "    .dataframe tbody tr th:only-of-type {\n",
       "        vertical-align: middle;\n",
       "    }\n",
       "\n",
       "    .dataframe tbody tr th {\n",
       "        vertical-align: top;\n",
       "    }\n",
       "\n",
       "    .dataframe thead th {\n",
       "        text-align: right;\n",
       "    }\n",
       "</style>\n",
       "<table border=\"1\" class=\"dataframe\">\n",
       "  <thead>\n",
       "    <tr style=\"text-align: right;\">\n",
       "      <th></th>\n",
       "      <th>ID_Cliente</th>\n",
       "      <th>Idade</th>\n",
       "      <th>Grau_escolaridade</th>\n",
       "      <th>Estado_civil</th>\n",
       "      <th>Tamanho_familia</th>\n",
       "      <th>Categoria_de_renda</th>\n",
       "      <th>Ocupacao</th>\n",
       "      <th>Anos_empregado</th>\n",
       "      <th>Rendimento_anual</th>\n",
       "      <th>Tem_carro</th>\n",
       "      <th>Moradia</th>\n",
       "    </tr>\n",
       "  </thead>\n",
       "  <tbody>\n",
       "    <tr>\n",
       "      <th>0</th>\n",
       "      <td>5008804</td>\n",
       "      <td>32</td>\n",
       "      <td>Ensino superior</td>\n",
       "      <td>União-estável</td>\n",
       "      <td>2</td>\n",
       "      <td>Empregado</td>\n",
       "      <td>Outro</td>\n",
       "      <td>12</td>\n",
       "      <td>427500.0</td>\n",
       "      <td>1</td>\n",
       "      <td>Apartamento alugado</td>\n",
       "    </tr>\n",
       "    <tr>\n",
       "      <th>1</th>\n",
       "      <td>5008805</td>\n",
       "      <td>32</td>\n",
       "      <td>Ensino superior</td>\n",
       "      <td>União-estável</td>\n",
       "      <td>2</td>\n",
       "      <td>Empregado</td>\n",
       "      <td>Outro</td>\n",
       "      <td>12</td>\n",
       "      <td>427500.0</td>\n",
       "      <td>1</td>\n",
       "      <td>Apartamento alugado</td>\n",
       "    </tr>\n",
       "    <tr>\n",
       "      <th>2</th>\n",
       "      <td>5008806</td>\n",
       "      <td>58</td>\n",
       "      <td>Ensino médio</td>\n",
       "      <td>Casado</td>\n",
       "      <td>2</td>\n",
       "      <td>Empregado</td>\n",
       "      <td>Segurança</td>\n",
       "      <td>3</td>\n",
       "      <td>112500.0</td>\n",
       "      <td>1</td>\n",
       "      <td>Casa/apartamento próprio</td>\n",
       "    </tr>\n",
       "    <tr>\n",
       "      <th>3</th>\n",
       "      <td>5008815</td>\n",
       "      <td>46</td>\n",
       "      <td>Ensino superior</td>\n",
       "      <td>Casado</td>\n",
       "      <td>2</td>\n",
       "      <td>Empregado</td>\n",
       "      <td>Contabilidade</td>\n",
       "      <td>2</td>\n",
       "      <td>270000.0</td>\n",
       "      <td>1</td>\n",
       "      <td>Casa/apartamento próprio</td>\n",
       "    </tr>\n",
       "    <tr>\n",
       "      <th>4</th>\n",
       "      <td>5112956</td>\n",
       "      <td>46</td>\n",
       "      <td>Ensino superior</td>\n",
       "      <td>Casado</td>\n",
       "      <td>2</td>\n",
       "      <td>Empregado</td>\n",
       "      <td>Contabilidade</td>\n",
       "      <td>2</td>\n",
       "      <td>270000.0</td>\n",
       "      <td>1</td>\n",
       "      <td>Casa/apartamento próprio</td>\n",
       "    </tr>\n",
       "  </tbody>\n",
       "</table>\n",
       "</div>"
      ],
      "text/plain": [
       "   ID_Cliente  Idade Grau_escolaridade   Estado_civil  Tamanho_familia  \\\n",
       "0     5008804     32   Ensino superior  União-estável                2   \n",
       "1     5008805     32   Ensino superior  União-estável                2   \n",
       "2     5008806     58      Ensino médio         Casado                2   \n",
       "3     5008815     46   Ensino superior         Casado                2   \n",
       "4     5112956     46   Ensino superior         Casado                2   \n",
       "\n",
       "  Categoria_de_renda       Ocupacao  Anos_empregado  Rendimento_anual  \\\n",
       "0          Empregado          Outro              12          427500.0   \n",
       "1          Empregado          Outro              12          427500.0   \n",
       "2          Empregado      Segurança               3          112500.0   \n",
       "3          Empregado  Contabilidade               2          270000.0   \n",
       "4          Empregado  Contabilidade               2          270000.0   \n",
       "\n",
       "   Tem_carro                   Moradia  \n",
       "0          1       Apartamento alugado  \n",
       "1          1       Apartamento alugado  \n",
       "2          1  Casa/apartamento próprio  \n",
       "3          1  Casa/apartamento próprio  \n",
       "4          1  Casa/apartamento próprio  "
      ]
     },
     "execution_count": 31,
     "metadata": {},
     "output_type": "execute_result"
    }
   ],
   "source": [
    "pd.read_sql_table('empregados', engine).head() # aqui fazemos a leitura de uma tabela especifica do nosso banco de dados, usamos pd.read_sql_table e passamos o nome da tabela entre aspas e o banco de dados que essa tabela se encontra"
   ]
  },
  {
   "cell_type": "markdown",
   "metadata": {},
   "source": [
    "read_sql é pra ler uma consulta no BD\n",
    "\n",
    "read_sql_table é pr ler uma tabela no BD"
   ]
  },
  {
   "cell_type": "code",
   "execution_count": 32,
   "metadata": {},
   "outputs": [
    {
     "data": {
      "text/html": [
       "<div>\n",
       "<style scoped>\n",
       "    .dataframe tbody tr th:only-of-type {\n",
       "        vertical-align: middle;\n",
       "    }\n",
       "\n",
       "    .dataframe tbody tr th {\n",
       "        vertical-align: top;\n",
       "    }\n",
       "\n",
       "    .dataframe thead th {\n",
       "        text-align: right;\n",
       "    }\n",
       "</style>\n",
       "<table border=\"1\" class=\"dataframe\">\n",
       "  <thead>\n",
       "    <tr style=\"text-align: right;\">\n",
       "      <th></th>\n",
       "      <th>ID_Cliente</th>\n",
       "      <th>Grau_escolaridade</th>\n",
       "      <th>Rendimento_anual</th>\n",
       "    </tr>\n",
       "  </thead>\n",
       "  <tbody>\n",
       "    <tr>\n",
       "      <th>0</th>\n",
       "      <td>5008804</td>\n",
       "      <td>Ensino superior</td>\n",
       "      <td>427500.0</td>\n",
       "    </tr>\n",
       "    <tr>\n",
       "      <th>1</th>\n",
       "      <td>5008805</td>\n",
       "      <td>Ensino superior</td>\n",
       "      <td>427500.0</td>\n",
       "    </tr>\n",
       "    <tr>\n",
       "      <th>2</th>\n",
       "      <td>5008806</td>\n",
       "      <td>Ensino médio</td>\n",
       "      <td>112500.0</td>\n",
       "    </tr>\n",
       "    <tr>\n",
       "      <th>3</th>\n",
       "      <td>5008815</td>\n",
       "      <td>Ensino superior</td>\n",
       "      <td>270000.0</td>\n",
       "    </tr>\n",
       "    <tr>\n",
       "      <th>4</th>\n",
       "      <td>5112956</td>\n",
       "      <td>Ensino superior</td>\n",
       "      <td>270000.0</td>\n",
       "    </tr>\n",
       "  </tbody>\n",
       "</table>\n",
       "</div>"
      ],
      "text/plain": [
       "   ID_Cliente Grau_escolaridade  Rendimento_anual\n",
       "0     5008804   Ensino superior          427500.0\n",
       "1     5008805   Ensino superior          427500.0\n",
       "2     5008806      Ensino médio          112500.0\n",
       "3     5008815   Ensino superior          270000.0\n",
       "4     5112956   Ensino superior          270000.0"
      ]
     },
     "execution_count": 32,
     "metadata": {},
     "output_type": "execute_result"
    }
   ],
   "source": [
    "pd.read_sql_table('empregados', engine, columns=['ID_Cliente', 'Grau_escolaridade', 'Rendimento_anual']).head() # aqui usando columns podemos selecionar só as colunas que queremos vizualizar"
   ]
  },
  {
   "cell_type": "code",
   "execution_count": 41,
   "metadata": {},
   "outputs": [
    {
     "data": {
      "text/html": [
       "<div>\n",
       "<style scoped>\n",
       "    .dataframe tbody tr th:only-of-type {\n",
       "        vertical-align: middle;\n",
       "    }\n",
       "\n",
       "    .dataframe tbody tr th {\n",
       "        vertical-align: top;\n",
       "    }\n",
       "\n",
       "    .dataframe thead th {\n",
       "        text-align: right;\n",
       "    }\n",
       "</style>\n",
       "<table border=\"1\" class=\"dataframe\">\n",
       "  <thead>\n",
       "    <tr style=\"text-align: right;\">\n",
       "      <th></th>\n",
       "      <th>ID_Cliente</th>\n",
       "      <th>Idade</th>\n",
       "      <th>Grau_escolaridade</th>\n",
       "      <th>Estado_civil</th>\n",
       "      <th>Tamanho_familia</th>\n",
       "      <th>Categoria_de_renda</th>\n",
       "      <th>Ocupacao</th>\n",
       "      <th>Anos_empregado</th>\n",
       "      <th>Rendimento_anual</th>\n",
       "      <th>Tem_carro</th>\n",
       "      <th>Moradia</th>\n",
       "    </tr>\n",
       "  </thead>\n",
       "  <tbody>\n",
       "    <tr>\n",
       "      <th>0</th>\n",
       "      <td>5008804</td>\n",
       "      <td>32</td>\n",
       "      <td>Ensino superior</td>\n",
       "      <td>União-estável</td>\n",
       "      <td>2</td>\n",
       "      <td>Empregado</td>\n",
       "      <td>Outro</td>\n",
       "      <td>12</td>\n",
       "      <td>427500.0</td>\n",
       "      <td>1</td>\n",
       "      <td>Apartamento alugado</td>\n",
       "    </tr>\n",
       "    <tr>\n",
       "      <th>1</th>\n",
       "      <td>5008805</td>\n",
       "      <td>32</td>\n",
       "      <td>Ensino superior</td>\n",
       "      <td>União-estável</td>\n",
       "      <td>2</td>\n",
       "      <td>Empregado</td>\n",
       "      <td>Outro</td>\n",
       "      <td>12</td>\n",
       "      <td>427500.0</td>\n",
       "      <td>1</td>\n",
       "      <td>Apartamento alugado</td>\n",
       "    </tr>\n",
       "    <tr>\n",
       "      <th>2</th>\n",
       "      <td>5008806</td>\n",
       "      <td>58</td>\n",
       "      <td>Ensino médio</td>\n",
       "      <td>Casado</td>\n",
       "      <td>2</td>\n",
       "      <td>Empregado</td>\n",
       "      <td>Segurança</td>\n",
       "      <td>3</td>\n",
       "      <td>112500.0</td>\n",
       "      <td>1</td>\n",
       "      <td>Casa/apartamento próprio</td>\n",
       "    </tr>\n",
       "    <tr>\n",
       "      <th>3</th>\n",
       "      <td>5008808</td>\n",
       "      <td>52</td>\n",
       "      <td>Ensino médio</td>\n",
       "      <td>Solteiro</td>\n",
       "      <td>1</td>\n",
       "      <td>Associado comercial</td>\n",
       "      <td>Vendas</td>\n",
       "      <td>8</td>\n",
       "      <td>270000.0</td>\n",
       "      <td>0</td>\n",
       "      <td>Casa/apartamento próprio</td>\n",
       "    </tr>\n",
       "    <tr>\n",
       "      <th>4</th>\n",
       "      <td>5008809</td>\n",
       "      <td>52</td>\n",
       "      <td>Ensino médio</td>\n",
       "      <td>Solteiro</td>\n",
       "      <td>1</td>\n",
       "      <td>Associado comercial</td>\n",
       "      <td>Vendas</td>\n",
       "      <td>8</td>\n",
       "      <td>270000.0</td>\n",
       "      <td>0</td>\n",
       "      <td>Casa/apartamento próprio</td>\n",
       "    </tr>\n",
       "  </tbody>\n",
       "</table>\n",
       "</div>"
      ],
      "text/plain": [
       "   ID_Cliente  Idade Grau_escolaridade   Estado_civil  Tamanho_familia  \\\n",
       "0     5008804     32   Ensino superior  União-estável                2   \n",
       "1     5008805     32   Ensino superior  União-estável                2   \n",
       "2     5008806     58      Ensino médio         Casado                2   \n",
       "3     5008808     52      Ensino médio       Solteiro                1   \n",
       "4     5008809     52      Ensino médio       Solteiro                1   \n",
       "\n",
       "    Categoria_de_renda   Ocupacao  Anos_empregado  Rendimento_anual  \\\n",
       "0            Empregado      Outro              12          427500.0   \n",
       "1            Empregado      Outro              12          427500.0   \n",
       "2            Empregado  Segurança               3          112500.0   \n",
       "3  Associado comercial     Vendas               8          270000.0   \n",
       "4  Associado comercial     Vendas               8          270000.0   \n",
       "\n",
       "   Tem_carro                   Moradia  \n",
       "0          1       Apartamento alugado  \n",
       "1          1       Apartamento alugado  \n",
       "2          1  Casa/apartamento próprio  \n",
       "3          0  Casa/apartamento próprio  \n",
       "4          0  Casa/apartamento próprio  "
      ]
     },
     "execution_count": 41,
     "metadata": {},
     "output_type": "execute_result"
    }
   ],
   "source": [
    "# Atualizando um Banco de Dados\n",
    "\n",
    "query = 'SELECT * FROM Clientes'\n",
    "\n",
    "pd.read_sql(query, engine).head()"
   ]
  },
  {
   "cell_type": "code",
   "execution_count": 57,
   "metadata": {},
   "outputs": [],
   "source": [
    "# deletadno uma informação do banco de dados\n",
    "\n",
    "from sqlalchemy import text # importa a função text da bibliteca sqlalchemy\n",
    "\n",
    "query = text('DELETE FROM Clientes WHERE ID_Cliente=5008804') # o comando passado deleta a linha onde na coluna ID_Cliente for igual a 5008804, a função text cria um objeto de instrução sql, caso não use ele o conn.execute(query) não aceita a variavel query como um comando lendo ela como uma simples str e dando erro \n",
    "with engine.connect() as conn: # with serve para garantir que a coneção do banco de dados seja fechada corretamente após a consulta, connect() estabelece uma coneção com o banco de dados, conn é o apeldido para essa coneção\n",
    "    conn.execute(query) # execute() serve para executar o comando que foi passado dentro dos parenteses diretamente no banco de dados\n",
    "    conn.commit() # commit garante que a operação de exclusão seja aplicad no banco de dados"
   ]
  },
  {
   "cell_type": "code",
   "execution_count": 58,
   "metadata": {},
   "outputs": [
    {
     "data": {
      "text/html": [
       "<div>\n",
       "<style scoped>\n",
       "    .dataframe tbody tr th:only-of-type {\n",
       "        vertical-align: middle;\n",
       "    }\n",
       "\n",
       "    .dataframe tbody tr th {\n",
       "        vertical-align: top;\n",
       "    }\n",
       "\n",
       "    .dataframe thead th {\n",
       "        text-align: right;\n",
       "    }\n",
       "</style>\n",
       "<table border=\"1\" class=\"dataframe\">\n",
       "  <thead>\n",
       "    <tr style=\"text-align: right;\">\n",
       "      <th></th>\n",
       "      <th>ID_Cliente</th>\n",
       "      <th>Idade</th>\n",
       "      <th>Grau_escolaridade</th>\n",
       "      <th>Estado_civil</th>\n",
       "      <th>Tamanho_familia</th>\n",
       "      <th>Categoria_de_renda</th>\n",
       "      <th>Ocupacao</th>\n",
       "      <th>Anos_empregado</th>\n",
       "      <th>Rendimento_anual</th>\n",
       "      <th>Tem_carro</th>\n",
       "      <th>Moradia</th>\n",
       "    </tr>\n",
       "  </thead>\n",
       "  <tbody>\n",
       "    <tr>\n",
       "      <th>0</th>\n",
       "      <td>5008805</td>\n",
       "      <td>32</td>\n",
       "      <td>Ensino superior</td>\n",
       "      <td>União-estável</td>\n",
       "      <td>2</td>\n",
       "      <td>Empregado</td>\n",
       "      <td>Outro</td>\n",
       "      <td>12</td>\n",
       "      <td>427500.0</td>\n",
       "      <td>1</td>\n",
       "      <td>Apartamento alugado</td>\n",
       "    </tr>\n",
       "    <tr>\n",
       "      <th>1</th>\n",
       "      <td>5008806</td>\n",
       "      <td>58</td>\n",
       "      <td>Ensino médio</td>\n",
       "      <td>Casado</td>\n",
       "      <td>2</td>\n",
       "      <td>Empregado</td>\n",
       "      <td>Segurança</td>\n",
       "      <td>3</td>\n",
       "      <td>112500.0</td>\n",
       "      <td>1</td>\n",
       "      <td>Casa/apartamento próprio</td>\n",
       "    </tr>\n",
       "    <tr>\n",
       "      <th>2</th>\n",
       "      <td>5008808</td>\n",
       "      <td>52</td>\n",
       "      <td>Ensino médio</td>\n",
       "      <td>Solteiro</td>\n",
       "      <td>1</td>\n",
       "      <td>Associado comercial</td>\n",
       "      <td>Vendas</td>\n",
       "      <td>8</td>\n",
       "      <td>270000.0</td>\n",
       "      <td>0</td>\n",
       "      <td>Casa/apartamento próprio</td>\n",
       "    </tr>\n",
       "    <tr>\n",
       "      <th>3</th>\n",
       "      <td>5008809</td>\n",
       "      <td>52</td>\n",
       "      <td>Ensino médio</td>\n",
       "      <td>Solteiro</td>\n",
       "      <td>1</td>\n",
       "      <td>Associado comercial</td>\n",
       "      <td>Vendas</td>\n",
       "      <td>8</td>\n",
       "      <td>270000.0</td>\n",
       "      <td>0</td>\n",
       "      <td>Casa/apartamento próprio</td>\n",
       "    </tr>\n",
       "    <tr>\n",
       "      <th>4</th>\n",
       "      <td>5008810</td>\n",
       "      <td>52</td>\n",
       "      <td>Ensino médio</td>\n",
       "      <td>Solteiro</td>\n",
       "      <td>1</td>\n",
       "      <td>Associado comercial</td>\n",
       "      <td>Vendas</td>\n",
       "      <td>8</td>\n",
       "      <td>270000.0</td>\n",
       "      <td>0</td>\n",
       "      <td>Casa/apartamento próprio</td>\n",
       "    </tr>\n",
       "  </tbody>\n",
       "</table>\n",
       "</div>"
      ],
      "text/plain": [
       "   ID_Cliente  Idade Grau_escolaridade   Estado_civil  Tamanho_familia  \\\n",
       "0     5008805     32   Ensino superior  União-estável                2   \n",
       "1     5008806     58      Ensino médio         Casado                2   \n",
       "2     5008808     52      Ensino médio       Solteiro                1   \n",
       "3     5008809     52      Ensino médio       Solteiro                1   \n",
       "4     5008810     52      Ensino médio       Solteiro                1   \n",
       "\n",
       "    Categoria_de_renda   Ocupacao  Anos_empregado  Rendimento_anual  \\\n",
       "0            Empregado      Outro              12          427500.0   \n",
       "1            Empregado  Segurança               3          112500.0   \n",
       "2  Associado comercial     Vendas               8          270000.0   \n",
       "3  Associado comercial     Vendas               8          270000.0   \n",
       "4  Associado comercial     Vendas               8          270000.0   \n",
       "\n",
       "   Tem_carro                   Moradia  \n",
       "0          1       Apartamento alugado  \n",
       "1          1  Casa/apartamento próprio  \n",
       "2          0  Casa/apartamento próprio  \n",
       "3          0  Casa/apartamento próprio  \n",
       "4          0  Casa/apartamento próprio  "
      ]
     },
     "execution_count": 58,
     "metadata": {},
     "output_type": "execute_result"
    }
   ],
   "source": [
    "pd.read_sql_table('Clientes', engine).head()"
   ]
  },
  {
   "cell_type": "code",
   "execution_count": 64,
   "metadata": {},
   "outputs": [],
   "source": [
    "# Atualizando uma informação no Banco de dados\n",
    "\n",
    "query = text('UPDATE Clientes SET Grau_escolaridade=\"Ensino superior\" WHERE ID_Cliente=5008808') #o comando atualiza a tabela Clientes na coluna Grau_escolaridade para Ensino superior onde na coluna ID_Cliente tiver 5008808\n",
    "\n",
    "with engine.connect() as conn:\n",
    "    conn.execute(query)\n",
    "    conn.commit()"
   ]
  },
  {
   "cell_type": "code",
   "execution_count": 65,
   "metadata": {},
   "outputs": [
    {
     "data": {
      "text/html": [
       "<div>\n",
       "<style scoped>\n",
       "    .dataframe tbody tr th:only-of-type {\n",
       "        vertical-align: middle;\n",
       "    }\n",
       "\n",
       "    .dataframe tbody tr th {\n",
       "        vertical-align: top;\n",
       "    }\n",
       "\n",
       "    .dataframe thead th {\n",
       "        text-align: right;\n",
       "    }\n",
       "</style>\n",
       "<table border=\"1\" class=\"dataframe\">\n",
       "  <thead>\n",
       "    <tr style=\"text-align: right;\">\n",
       "      <th></th>\n",
       "      <th>ID_Cliente</th>\n",
       "      <th>Idade</th>\n",
       "      <th>Grau_escolaridade</th>\n",
       "      <th>Estado_civil</th>\n",
       "      <th>Tamanho_familia</th>\n",
       "      <th>Categoria_de_renda</th>\n",
       "      <th>Ocupacao</th>\n",
       "      <th>Anos_empregado</th>\n",
       "      <th>Rendimento_anual</th>\n",
       "      <th>Tem_carro</th>\n",
       "      <th>Moradia</th>\n",
       "    </tr>\n",
       "  </thead>\n",
       "  <tbody>\n",
       "    <tr>\n",
       "      <th>0</th>\n",
       "      <td>5008805</td>\n",
       "      <td>32</td>\n",
       "      <td>Ensino superior</td>\n",
       "      <td>União-estável</td>\n",
       "      <td>2</td>\n",
       "      <td>Empregado</td>\n",
       "      <td>Outro</td>\n",
       "      <td>12</td>\n",
       "      <td>427500.0</td>\n",
       "      <td>1</td>\n",
       "      <td>Apartamento alugado</td>\n",
       "    </tr>\n",
       "    <tr>\n",
       "      <th>1</th>\n",
       "      <td>5008806</td>\n",
       "      <td>58</td>\n",
       "      <td>Ensino médio</td>\n",
       "      <td>Casado</td>\n",
       "      <td>2</td>\n",
       "      <td>Empregado</td>\n",
       "      <td>Segurança</td>\n",
       "      <td>3</td>\n",
       "      <td>112500.0</td>\n",
       "      <td>1</td>\n",
       "      <td>Casa/apartamento próprio</td>\n",
       "    </tr>\n",
       "    <tr>\n",
       "      <th>2</th>\n",
       "      <td>5008808</td>\n",
       "      <td>52</td>\n",
       "      <td>Ensino superior</td>\n",
       "      <td>Solteiro</td>\n",
       "      <td>1</td>\n",
       "      <td>Associado comercial</td>\n",
       "      <td>Vendas</td>\n",
       "      <td>8</td>\n",
       "      <td>270000.0</td>\n",
       "      <td>0</td>\n",
       "      <td>Casa/apartamento próprio</td>\n",
       "    </tr>\n",
       "    <tr>\n",
       "      <th>3</th>\n",
       "      <td>5008809</td>\n",
       "      <td>52</td>\n",
       "      <td>Ensino médio</td>\n",
       "      <td>Solteiro</td>\n",
       "      <td>1</td>\n",
       "      <td>Associado comercial</td>\n",
       "      <td>Vendas</td>\n",
       "      <td>8</td>\n",
       "      <td>270000.0</td>\n",
       "      <td>0</td>\n",
       "      <td>Casa/apartamento próprio</td>\n",
       "    </tr>\n",
       "    <tr>\n",
       "      <th>4</th>\n",
       "      <td>5008810</td>\n",
       "      <td>52</td>\n",
       "      <td>Ensino médio</td>\n",
       "      <td>Solteiro</td>\n",
       "      <td>1</td>\n",
       "      <td>Associado comercial</td>\n",
       "      <td>Vendas</td>\n",
       "      <td>8</td>\n",
       "      <td>270000.0</td>\n",
       "      <td>0</td>\n",
       "      <td>Casa/apartamento próprio</td>\n",
       "    </tr>\n",
       "  </tbody>\n",
       "</table>\n",
       "</div>"
      ],
      "text/plain": [
       "   ID_Cliente  Idade Grau_escolaridade   Estado_civil  Tamanho_familia  \\\n",
       "0     5008805     32   Ensino superior  União-estável                2   \n",
       "1     5008806     58      Ensino médio         Casado                2   \n",
       "2     5008808     52   Ensino superior       Solteiro                1   \n",
       "3     5008809     52      Ensino médio       Solteiro                1   \n",
       "4     5008810     52      Ensino médio       Solteiro                1   \n",
       "\n",
       "    Categoria_de_renda   Ocupacao  Anos_empregado  Rendimento_anual  \\\n",
       "0            Empregado      Outro              12          427500.0   \n",
       "1            Empregado  Segurança               3          112500.0   \n",
       "2  Associado comercial     Vendas               8          270000.0   \n",
       "3  Associado comercial     Vendas               8          270000.0   \n",
       "4  Associado comercial     Vendas               8          270000.0   \n",
       "\n",
       "   Tem_carro                   Moradia  \n",
       "0          1       Apartamento alugado  \n",
       "1          1  Casa/apartamento próprio  \n",
       "2          0  Casa/apartamento próprio  \n",
       "3          0  Casa/apartamento próprio  \n",
       "4          0  Casa/apartamento próprio  "
      ]
     },
     "execution_count": 65,
     "metadata": {},
     "output_type": "execute_result"
    }
   ],
   "source": [
    "pd.read_sql_table('Clientes', engine).head()"
   ]
  }
 ],
 "metadata": {
  "kernelspec": {
   "display_name": "Python 3",
   "language": "python",
   "name": "python3"
  },
  "language_info": {
   "codemirror_mode": {
    "name": "ipython",
    "version": 3
   },
   "file_extension": ".py",
   "mimetype": "text/x-python",
   "name": "python",
   "nbconvert_exporter": "python",
   "pygments_lexer": "ipython3",
   "version": "3.11.7"
  }
 },
 "nbformat": 4,
 "nbformat_minor": 2
}
